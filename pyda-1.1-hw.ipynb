{
 "cells": [
  {
   "cell_type": "markdown",
   "metadata": {},
   "source": [
    "**Задание 1**. Даны 2 строки: *long_phrase* и *short_phrase*. \n",
    "Напишите код, который проверяет действительно ли длинная фраза *long_phrase* длиннее короткой *short_phrase*. И выводит *True* или *False* в зависимости от результата сравнения."
   ]
  },
  {
   "cell_type": "code",
   "execution_count": 1,
   "metadata": {},
   "outputs": [],
   "source": [
    "long_phrase = 'Насколько проще было бы писать программы, если бы не заказчики'\n",
    "short_phrase = '640Кб должно хватить для любых задач. Билл Гейтс (по легенде)'"
   ]
  },
  {
   "cell_type": "code",
   "execution_count": 2,
   "metadata": {},
   "outputs": [
    {
     "data": {
      "text/plain": [
       "True"
      ]
     },
     "execution_count": 2,
     "metadata": {},
     "output_type": "execute_result"
    }
   ],
   "source": [
    "len(long_phrase) > len(short_phrase)"
   ]
  },
  {
   "cell_type": "markdown",
   "metadata": {},
   "source": [
    "**Задание 2**. Дано значение объема файла в байтах. Напишите перевод этого значения в мегабайты в формате: \"*Объем файла равен 213.68Mb*\""
   ]
  },
  {
   "cell_type": "code",
   "execution_count": 12,
   "metadata": {},
   "outputs": [
    {
     "name": "stdout",
     "output_type": "stream",
     "text": [
      "Объем файла равен 9.5367431640625e-07 Mb\n"
     ]
    }
   ],
   "source": [
    "file_weight = 1\n",
    "Mbyte = file_weight/(1024*1024)\n",
    "print('Объем файла равен', Mbyte,'Mb')"
   ]
  },
  {
   "cell_type": "markdown",
   "metadata": {},
   "source": [
    "**Задание 3**. Разработать приложение для определения знака зодиака по дате рождения. Пример:\n",
    "\n",
    "Введите месяц: март\n",
    "\n",
    "Введите число: 6\n",
    "\n",
    "Вывод:\n",
    "Рыбы"
   ]
  },
  {
   "cell_type": "code",
   "execution_count": 5,
   "metadata": {},
   "outputs": [
    {
     "name": "stdin",
     "output_type": "stream",
     "text": [
      "Введите месяц Март\n",
      "Введите число 13\n"
     ]
    },
    {
     "name": "stdout",
     "output_type": "stream",
     "text": [
      "Рыбы\n",
      "Конец программы\n"
     ]
    }
   ],
   "source": [
    "month = input('Введите месяц')\n",
    "number = input ('Введите число')\n",
    "if (month == 'Март' and number >= '21') or (month == 'Апрель' and number <='20'):\n",
    "    print ('Овен')\n",
    "elif (month == 'Апрель' and number >= '21') or (month == 'Май' and number <='20'):\n",
    "    print ('Телец')\n",
    "elif (month == 'Май' and number >= '21') or (month == 'Июнь' and number <='21'):\n",
    "    print ('Близнецы')\n",
    "elif (month == 'Июнь' and number >= '22') or (month == 'Июль' and number <='22'):\n",
    "    print ('Рак')\n",
    "elif (month == 'Июль' and number >= '23') or (month == 'Август' and number <='23'):\n",
    "    print ('Лев')\n",
    "elif (month == 'Август' and number >= '24') or (month == 'Сентябрь' and number <='23'):\n",
    "    print ('Дева')\n",
    "elif (month == 'Сентябрь' and number >= '24') or (month == 'Октябрь' and number <='23'):\n",
    "    print ('Весы')\n",
    "elif (month == 'Октябрь' and number >= '24') or (month == 'Ноябрь' and number <='22'):\n",
    "    print ('Скорпион')\n",
    "elif (month == 'Ноябрь' and number >= '23') or (month == 'Декабрь' and number <='21'):\n",
    "    print ('Стрелец')\n",
    "elif (month == 'Декабрь' and number >= '22') or (month == 'Январь' and number <='20'):\n",
    "    print ('Козерог')\n",
    "elif (month == 'Январь' and number >= '21') or (month == 'Февраль' and number <='20'):\n",
    "    print ('Водолей')\n",
    "else:\n",
    "    print ('Рыбы')\n",
    "print ('Конец программы')"
   ]
  },
  {
   "cell_type": "markdown",
   "metadata": {},
   "source": [
    "**Задание 4**. Нужно разработать приложение для финансового планирования.\n",
    "Приложение учитывает сколько уходит на ипотеку, \"на жизнь\" и сколько нужно отложить на пенсию.\n",
    "Пользователь вводит:\n",
    "- заработанную плату в месяц.\n",
    "- сколько процентов от ЗП уходит на ипотеку.\n",
    "- сколько процентов от ЗП уходит \"на жизнь\".\n",
    "- сколько раз приходит премия в год.\n",
    "\n",
    "Остальная часть заработанной платы откладывается на пенсию.\n",
    "\n",
    "Также пользователю приходит премия в размере зарплаты, от которой половина уходит на отпуск, а вторая половина откладывается.\n",
    "\n",
    "Программа должна учитывать сколько премий было в год.\n",
    "\n",
    "Нужно вывести сколько денег тратит пользователь на ипотеку и сколько он накопит за год.\n",
    "\n",
    "Пример:\n",
    "\n",
    "Введите заработанную плату в месяц: 100000\n",
    "\n",
    "Введите сколько процентов уходит на ипотеку: 30\n",
    "\n",
    "Введите сколько процентов уходит на жизнь: 50\n",
    "\n",
    "Введите количество премий за год: 2\n",
    "\n",
    "Вывод:\n",
    "На ипотеку было потрачено: 360000 рублей\n",
    "Было накоплено: 340000 рублей"
   ]
  },
  {
   "cell_type": "code",
   "execution_count": 16,
   "metadata": {},
   "outputs": [
    {
     "name": "stdin",
     "output_type": "stream",
     "text": [
      "Введите заработную плату в месяц 100000\n",
      "Введите сколько процетнов уходит на ипотеку 30\n",
      "Введите сколько процентов уходит на жизнь 50\n",
      "Введите количество премий за год 2\n"
     ]
    },
    {
     "name": "stdout",
     "output_type": "stream",
     "text": [
      "Вывод: На ипотеку было потрачено: 360000.0 рублей. Было накоплено: 340000.0 рублей\n"
     ]
    }
   ],
   "source": [
    "salary = int(input ('Введите заработную плату в месяц'))\n",
    "percent_of_debt = int(input ('Введите сколько процетнов уходит на ипотеку'))\n",
    "percent_for_life = int(input ('Введите сколько процентов уходит на жизнь'))\n",
    "extra = int(input ('Введите количество премий за год'))\n",
    "debts = ((salary*12)/100)*percent_of_debt\n",
    "savings = (salary*12)-(((salary*12)/100)*(percent_of_debt+percent_for_life))+((salary*extra)/2)\n",
    "\n",
    "print('Вывод: На ипотеку было потрачено:', debts, 'рублей. Было накоплено:', savings, 'рублей')\n"
   ]
  },
  {
   "cell_type": "code",
   "execution_count": null,
   "metadata": {},
   "outputs": [],
   "source": []
  }
 ],
 "metadata": {
  "kernelspec": {
   "display_name": "Python 3",
   "language": "python",
   "name": "python3"
  },
  "language_info": {
   "codemirror_mode": {
    "name": "ipython",
    "version": 3
   },
   "file_extension": ".py",
   "mimetype": "text/x-python",
   "name": "python",
   "nbconvert_exporter": "python",
   "pygments_lexer": "ipython3",
   "version": "3.7.3"
  }
 },
 "nbformat": 4,
 "nbformat_minor": 2
}
