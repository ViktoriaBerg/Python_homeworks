{
 "cells": [
  {
   "cell_type": "markdown",
   "metadata": {},
   "source": [
    "## Задание 1"
   ]
  },
  {
   "cell_type": "markdown",
   "metadata": {},
   "source": [
    "Дан список вида:"
   ]
  },
  {
   "cell_type": "code",
   "execution_count": 98,
   "metadata": {},
   "outputs": [],
   "source": [
    "data = [\n",
    "    [13, 25, 23, 34],\n",
    "    [45, 32, 44, 47],\n",
    "    [12, 33, 23, 95],\n",
    "    [13, 53, 34, 35]\n",
    "]"
   ]
  },
  {
   "cell_type": "code",
   "execution_count": 102,
   "metadata": {},
   "outputs": [
    {
     "data": {
      "text/plain": [
       "103"
      ]
     },
     "execution_count": 102,
     "metadata": {},
     "output_type": "execute_result"
    }
   ],
   "source": [
    "def sum_diagonal_1(data):\n",
    "    n=4\n",
    "    result = sum(data[i][i] for i in range(n))\n",
    "    return result\n",
    "sum_diagonal_1(data)"
   ]
  },
  {
   "cell_type": "markdown",
   "metadata": {},
   "source": [
    "Напишите функцию, которая возвращает сумму элементов на диагонали. Т. е. 13+32+23+35."
   ]
  },
  {
   "cell_type": "markdown",
   "metadata": {},
   "source": [
    "## Задание 2"
   ]
  },
  {
   "cell_type": "markdown",
   "metadata": {},
   "source": [
    "Дан список чисел, часть из которых имеют строковый тип или содержат буквы. Напишите функцию, которая возвращает сумму квадратов элементов, которые могут быть числами."
   ]
  },
  {
   "cell_type": "code",
   "execution_count": 3,
   "metadata": {},
   "outputs": [],
   "source": [
    "data = [1, '5', 'abc', 20, '2']"
   ]
  },
  {
   "cell_type": "code",
   "execution_count": 6,
   "metadata": {},
   "outputs": [
    {
     "data": {
      "text/plain": [
       "430"
      ]
     },
     "execution_count": 6,
     "metadata": {},
     "output_type": "execute_result"
    }
   ],
   "source": [
    "def sqr(data):\n",
    "    b=0\n",
    "    for i in data:\n",
    "        if type(i) == int:\n",
    "            b = b + i**2\n",
    "        else:\n",
    "                try:\n",
    "                    b = b + (int(i)**2)\n",
    "                except ValueError:\n",
    "                    i = 0\n",
    "    return(b)\n",
    "sqr(data)"
   ]
  },
  {
   "cell_type": "markdown",
   "metadata": {},
   "source": [
    "## Задание 3"
   ]
  },
  {
   "cell_type": "markdown",
   "metadata": {},
   "source": [
    "Напишите функцию, возвращающую сумму первых n чисел Фибоначчи."
   ]
  },
  {
   "cell_type": "code",
   "execution_count": 52,
   "metadata": {},
   "outputs": [
    {
     "name": "stdout",
     "output_type": "stream",
     "text": [
      "12\n",
      "1 2 3 5 8 13 21 34 55 89 144 233 "
     ]
    }
   ],
   "source": [
    "def fib():\n",
    "    n = int(input())\n",
    "    f1 = 1\n",
    "    f2 = 2\n",
    "    print(f1, f2, end=\" \")\n",
    "    for i in range(3,n+1):\n",
    "        print(f1+f2, end=\" \")\n",
    "        b = f1\n",
    "        f1 = f2\n",
    "        f2 = b+f1\n",
    "fib()"
   ]
  },
  {
   "cell_type": "markdown",
   "metadata": {},
   "source": [
    "## Задание 4"
   ]
  },
  {
   "cell_type": "markdown",
   "metadata": {},
   "source": [
    "Дан набор данных об обучении студентов на курсе программирования, который содержит: \n",
    "1) имя\n",
    "2) фамилию \n",
    "3) пол \n",
    "4) наличие у студента опыта в программировании \n",
    "5) набор оценок за домашние работы \n",
    "6) оценку за итоговую работу.\n",
    "\n",
    "Напишите программу, которая будет принимать команду от пользователя и возвращать соотвествующий результат.\n",
    "Список команд: \n",
    "1 - вывести на экран среднюю оценку за все ДЗ по группе и вывести на экран среднюю оценку за экзамен по группе;\n",
    "2 - вывести среднюю оценку за ДЗ и за экзамен по группе в разрезе пола студентов\n",
    "3 - вывести среднюю оценку за ДЗ и за экзамен в разрезе наличия опыта в программировании у студентов.\n",
    "\n",
    "Прогрмма должна быть полностью декомпозирована на функции (кроме объявления функций и вызова итоговой функции в реализации ничего быть не должно)."
   ]
  },
  {
   "cell_type": "code",
   "execution_count": 2,
   "metadata": {},
   "outputs": [],
   "source": [
    "students_list = [\n",
    "    {'name': 'Василий', 'surname': 'Теркин', 'sex': 'м', 'program_exp': True, 'grade': [8, 8, 9, 10, 9], 'exam': 9},\n",
    "    {'name': 'Мария', 'surname': 'Павлова', 'sex': 'ж', 'program_exp': True, 'grade': [7, 8, 9, 7, 9], 'exam': 8},\n",
    "    {'name': 'Ирина', 'surname': 'Андреева', 'sex': 'ж', 'program_exp': True, 'grade': [10, 9, 8, 10, 10], 'exam': 10},\n",
    "    {'name': 'Татьяна', 'surname': 'Сидорова', 'sex': 'ж', 'program_exp': True, 'grade': [7, 8, 8, 9, 8], 'exam': 8},\n",
    "    {'name': 'Иван', 'surname': 'Васильев', 'sex': 'ж', 'program_exp': True, 'grade': [9, 8, 9, 6, 9], 'exam': 10},\n",
    "    {'name': 'Роман', 'surname': 'Золотарев', 'sex': 'ж', 'program_exp': False, 'grade': [8, 9, 9, 6, 9], 'exam': 10}\n",
    "]"
   ]
  },
  {
   "cell_type": "code",
   "execution_count": 163,
   "metadata": {},
   "outputs": [
    {
     "name": "stdout",
     "output_type": "stream",
     "text": [
      "Cредняя оценка за все ДЗ по группе: 8.43 Средняя оценка за экзамен по группе: 9.17\n"
     ]
    }
   ],
   "source": [
    "def avg_1(students_list):\n",
    "    list_1=[]\n",
    "    list_2=[]\n",
    "    for i in students_list:\n",
    "        list_1.append(sum(i['grade'])/len(i['grade']))\n",
    "        list_2.append(i['exam'])\n",
    "    print('Cредняя оценка за все ДЗ по группе:', round(sum(list_1)/len(students_list), 2),\n",
    "          'Средняя оценка за экзамен по группе:', round(sum(list_2)/len(students_list),2))\n",
    "avg_1(students_list)"
   ]
  },
  {
   "cell_type": "code",
   "execution_count": 164,
   "metadata": {},
   "outputs": [
    {
     "name": "stdout",
     "output_type": "stream",
     "text": [
      "Cредняя оценка за все ДЗ среди женщин: 8.36 Средняя оценка за экзамен среди женщин: 9.2\n",
      "Cредняя оценка за все ДЗ среди мужчин: 8.8 Средняя оценка за экзамен среди мужчин: 9.0\n"
     ]
    }
   ],
   "source": [
    "def avg_2(students_list):\n",
    "    woman=[]\n",
    "    woman_1=[]\n",
    "    woman_2=[]\n",
    "    men=[]\n",
    "    men_1=[]\n",
    "    men_2=[]\n",
    "    for i in students_list:\n",
    "        if i['sex']=='ж':\n",
    "            woman.append(len(i['sex']))\n",
    "            woman_1.append(sum(i['grade'])/len(i['grade']))\n",
    "            woman_2.append(i['exam'])\n",
    "        else:\n",
    "            men.append(len(i['sex']))\n",
    "            men_1.append(sum(i['grade'])/len(i['grade']))\n",
    "            men_2.append(i['exam'])\n",
    "    print('Cредняя оценка за все ДЗ среди женщин:', round(sum(woman_1)/len(woman), 2), \n",
    "          'Средняя оценка за экзамен среди женщин:', round(sum(woman_2)/len(woman),2))\n",
    "    print('Cредняя оценка за все ДЗ среди мужчин:', round(sum(men_1)/len(men), 2), \n",
    "         'Средняя оценка за экзамен среди мужчин:', round(sum(men_2)/len(men),2))\n",
    "    \n",
    "avg_2(students_list)"
   ]
  },
  {
   "cell_type": "code",
   "execution_count": 203,
   "metadata": {},
   "outputs": [
    {
     "name": "stdout",
     "output_type": "stream",
     "text": [
      "Средняя оценка за все ДЗ при наличии опыта программирования: 8.48 Средняя оценка за экзамен при наличии опыта програмиирования: 9.0\n",
      "Средняя оценка за все ДЗ без опыта программирования: 8.2 Средняя оценка за экзамен без опыта программирования: 10.0\n"
     ]
    }
   ],
   "source": [
    "def avg_3(students_list):\n",
    "    exp=[]\n",
    "    exp_1=[]\n",
    "    exp_2=[]\n",
    "    no_exp=[]\n",
    "    no_exp_1=[]\n",
    "    no_exp_2=[]\n",
    "    for i in students_list:\n",
    "        if i['program_exp']==True:\n",
    "            exp.append(i['program_exp'])\n",
    "            exp_1.append(sum(i['grade'])/len(i['grade']))\n",
    "            exp_2.append(i['exam'])\n",
    "        else:\n",
    "            no_exp.append(i['program_exp'])\n",
    "            no_exp_1.append(sum(i['grade'])/len(i['grade']))\n",
    "            no_exp_2.append(i['exam'])\n",
    "        \n",
    "            \n",
    "    print('Средняя оценка за все ДЗ при наличии опыта программирования:', sum(exp_1)/sum(exp),\n",
    "    'Средняя оценка за экзамен при наличии опыта програмиирования:', sum(exp_2)/sum(exp))\n",
    "    print('Средняя оценка за все ДЗ без опыта программирования:', sum(no_exp_1)/(no_exp.count(False)),\n",
    "          'Средняя оценка за экзамен без опыта программирования:', sum(no_exp_2)/(no_exp.count(False)))\n",
    "avg_3(students_list)"
   ]
  },
  {
   "cell_type": "code",
   "execution_count": 246,
   "metadata": {},
   "outputs": [
    {
     "name": "stdout",
     "output_type": "stream",
     "text": [
      "Введите команду: 3\n",
      "Средняя оценка за все ДЗ при наличии опыта программирования: 8.48 Средняя оценка за экзамен при наличии опыта програмиирования: 9.0\n",
      "Средняя оценка за все ДЗ без опыта программирования: 8.2 Средняя оценка за экзамен без опыта программирования: 10.0\n"
     ]
    }
   ],
   "source": [
    "def function():\n",
    "    command=int(input('Введите команду: '))\n",
    "    if command == 1:\n",
    "        return(avg_1(students_list))\n",
    "    elif command == 2:\n",
    "        return(avg_2(students_list))\n",
    "    elif command == 3:\n",
    "        return(avg_3(students_list))\n",
    "    else:\n",
    "        return('Ошибка')\n",
    "function()"
   ]
  },
  {
   "cell_type": "code",
   "execution_count": null,
   "metadata": {},
   "outputs": [],
   "source": []
  }
 ],
 "metadata": {
  "kernelspec": {
   "display_name": "Python 3",
   "language": "python",
   "name": "python3"
  },
  "language_info": {
   "codemirror_mode": {
    "name": "ipython",
    "version": 3
   },
   "file_extension": ".py",
   "mimetype": "text/x-python",
   "name": "python",
   "nbconvert_exporter": "python",
   "pygments_lexer": "ipython3",
   "version": "3.7.3"
  }
 },
 "nbformat": 4,
 "nbformat_minor": 2
}
